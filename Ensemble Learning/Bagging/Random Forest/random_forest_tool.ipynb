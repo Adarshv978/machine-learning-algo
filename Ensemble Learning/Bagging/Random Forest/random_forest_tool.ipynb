{
 "cells": [
  {
   "cell_type": "code",
   "execution_count": 61,
   "id": "fb13ef2a",
   "metadata": {},
   "outputs": [],
   "source": [
    "import numpy as np\n",
    "import pandas as pd\n",
    "from sklearn.datasets import make_classification\n",
    "import random\n"
   ]
  },
  {
   "cell_type": "code",
   "execution_count": 62,
   "id": "bf318659",
   "metadata": {},
   "outputs": [],
   "source": [
    "X,y = make_classification(n_features=5, n_redundant=0, n_informative=5,n_clusters_per_class=1)"
   ]
  },
  {
   "cell_type": "code",
   "execution_count": 63,
   "id": "1cffbd7f",
   "metadata": {},
   "outputs": [
    {
     "name": "stdout",
     "output_type": "stream",
     "text": [
      "(100, 6)\n"
     ]
    },
    {
     "data": {
      "text/html": [
       "<div>\n",
       "<style scoped>\n",
       "    .dataframe tbody tr th:only-of-type {\n",
       "        vertical-align: middle;\n",
       "    }\n",
       "\n",
       "    .dataframe tbody tr th {\n",
       "        vertical-align: top;\n",
       "    }\n",
       "\n",
       "    .dataframe thead th {\n",
       "        text-align: right;\n",
       "    }\n",
       "</style>\n",
       "<table border=\"1\" class=\"dataframe\">\n",
       "  <thead>\n",
       "    <tr style=\"text-align: right;\">\n",
       "      <th></th>\n",
       "      <th>col1</th>\n",
       "      <th>col2</th>\n",
       "      <th>col3</th>\n",
       "      <th>col4</th>\n",
       "      <th>col5</th>\n",
       "      <th>target</th>\n",
       "    </tr>\n",
       "  </thead>\n",
       "  <tbody>\n",
       "    <tr>\n",
       "      <th>0</th>\n",
       "      <td>-2.193278</td>\n",
       "      <td>0.519345</td>\n",
       "      <td>1.665302</td>\n",
       "      <td>-1.151022</td>\n",
       "      <td>-1.551316</td>\n",
       "      <td>1</td>\n",
       "    </tr>\n",
       "    <tr>\n",
       "      <th>1</th>\n",
       "      <td>0.256712</td>\n",
       "      <td>0.759529</td>\n",
       "      <td>0.703589</td>\n",
       "      <td>-0.104041</td>\n",
       "      <td>3.998473</td>\n",
       "      <td>0</td>\n",
       "    </tr>\n",
       "    <tr>\n",
       "      <th>2</th>\n",
       "      <td>2.155355</td>\n",
       "      <td>-1.649925</td>\n",
       "      <td>1.461851</td>\n",
       "      <td>-1.364145</td>\n",
       "      <td>-0.153890</td>\n",
       "      <td>0</td>\n",
       "    </tr>\n",
       "    <tr>\n",
       "      <th>3</th>\n",
       "      <td>2.893017</td>\n",
       "      <td>2.306642</td>\n",
       "      <td>0.251846</td>\n",
       "      <td>-0.399319</td>\n",
       "      <td>2.392913</td>\n",
       "      <td>1</td>\n",
       "    </tr>\n",
       "    <tr>\n",
       "      <th>4</th>\n",
       "      <td>0.428451</td>\n",
       "      <td>-2.694006</td>\n",
       "      <td>0.019905</td>\n",
       "      <td>-0.027896</td>\n",
       "      <td>1.630898</td>\n",
       "      <td>1</td>\n",
       "    </tr>\n",
       "  </tbody>\n",
       "</table>\n",
       "</div>"
      ],
      "text/plain": [
       "       col1      col2      col3      col4      col5  target\n",
       "0 -2.193278  0.519345  1.665302 -1.151022 -1.551316       1\n",
       "1  0.256712  0.759529  0.703589 -0.104041  3.998473       0\n",
       "2  2.155355 -1.649925  1.461851 -1.364145 -0.153890       0\n",
       "3  2.893017  2.306642  0.251846 -0.399319  2.392913       1\n",
       "4  0.428451 -2.694006  0.019905 -0.027896  1.630898       1"
      ]
     },
     "execution_count": 63,
     "metadata": {},
     "output_type": "execute_result"
    }
   ],
   "source": [
    "df = pd.DataFrame(X,columns=['col1','col2','col3','col4','col5'])\n",
    "df['target'] = y\n",
    "print(df.shape)\n",
    "df.head()"
   ]
  },
  {
   "cell_type": "code",
   "execution_count": 64,
   "id": "d5d32625",
   "metadata": {},
   "outputs": [],
   "source": [
    "# function for row sampling\n",
    "def sample_rows(df,percent):\n",
    "    return df.sample(int(percent*df.shape[0]),replace=True)\n"
   ]
  },
  {
   "cell_type": "code",
   "execution_count": 87,
   "id": "ed6b2ccb",
   "metadata": {},
   "outputs": [],
   "source": [
    "# function for feature sampling\n",
    "def sample_features(df,percent):\n",
    "    cols = random.sample(df.columns.tolist()[:-1], int(percent*df.shape[1]-1))\n",
    "    return df[cols]"
   ]
  },
  {
   "cell_type": "code",
   "execution_count": 66,
   "id": "7532bbfe",
   "metadata": {},
   "outputs": [],
   "source": [
    "# function for combined sampling\n",
    "\n",
    "def combined_sampling(df,row_percent,col_percent):\n",
    "    new_df = sample_rows(df,row_percent)\n",
    "    return sample_features(new_df,col_percent)"
   ]
  },
  {
   "cell_type": "code",
   "execution_count": 67,
   "id": "3b02ea87",
   "metadata": {},
   "outputs": [],
   "source": [
    "df1 = sample_rows(df, 0.2)\n",
    "df2 = sample_rows(df, 0.2)\n",
    "df3 = sample_rows(df, 0.2)\n"
   ]
  },
  {
   "cell_type": "code",
   "execution_count": 68,
   "id": "9b469087",
   "metadata": {},
   "outputs": [],
   "source": [
    "from sklearn.tree import DecisionTreeClassifier\n",
    "\n",
    "clf1 = DecisionTreeClassifier()\n",
    "clf2 = DecisionTreeClassifier()\n",
    "clf3 = DecisionTreeClassifier()"
   ]
  },
  {
   "cell_type": "code",
   "execution_count": 77,
   "id": "6c81c20e",
   "metadata": {},
   "outputs": [
    {
     "data": {
      "text/plain": [
       "DecisionTreeClassifier()"
      ]
     },
     "execution_count": 77,
     "metadata": {},
     "output_type": "execute_result"
    }
   ],
   "source": [
    "clf1.fit(df1.iloc[:,0:5], df1.iloc[:,-1])\n",
    "clf2.fit(df2.iloc[:,0:5], df2.iloc[:,-1])\n",
    "clf3.fit(df3.iloc[:,0:5], df3.iloc[:,-1])"
   ]
  },
  {
   "cell_type": "code",
   "execution_count": 78,
   "id": "b10d3e60",
   "metadata": {},
   "outputs": [],
   "source": [
    "from sklearn.tree import plot_tree"
   ]
  },
  {
   "cell_type": "code",
   "execution_count": 79,
   "id": "69c3888a",
   "metadata": {},
   "outputs": [
    {
     "data": {
      "text/plain": [
       "[Text(0.4, 0.875, 'X[1] <= -0.209\\ngini = 0.48\\nsamples = 20\\nvalue = [12, 8]'),\n",
       " Text(0.2, 0.625, 'gini = 0.0\\nsamples = 10\\nvalue = [10, 0]'),\n",
       " Text(0.6, 0.625, 'X[4] <= 2.869\\ngini = 0.32\\nsamples = 10\\nvalue = [2, 8]'),\n",
       " Text(0.4, 0.375, 'X[2] <= 1.809\\ngini = 0.198\\nsamples = 9\\nvalue = [1, 8]'),\n",
       " Text(0.2, 0.125, 'gini = 0.0\\nsamples = 8\\nvalue = [0, 8]'),\n",
       " Text(0.6, 0.125, 'gini = 0.0\\nsamples = 1\\nvalue = [1, 0]'),\n",
       " Text(0.8, 0.375, 'gini = 0.0\\nsamples = 1\\nvalue = [1, 0]')]"
      ]
     },
     "execution_count": 79,
     "metadata": {},
     "output_type": "execute_result"
    },
    {
     "data": {
      "image/png": "[encoded data removed]",
      "text/plain": [
       "<Figure size 640x480 with 1 Axes>"
      ]
     },
     "metadata": {},
     "output_type": "display_data"
    }
   ],
   "source": [
    "plot_tree(clf1)"
   ]
  },
  {
   "cell_type": "code",
   "execution_count": 80,
   "id": "b60b5e36",
   "metadata": {},
   "outputs": [
    {
     "data": {
      "text/plain": [
       "[Text(0.6666666666666666, 0.875, 'X[1] <= 0.681\\ngini = 0.455\\nsamples = 20\\nvalue = [13, 7]'),\n",
       " Text(0.5, 0.625, 'X[0] <= 2.201\\ngini = 0.231\\nsamples = 15\\nvalue = [13, 2]'),\n",
       " Text(0.3333333333333333, 0.375, 'X[1] <= -1.781\\ngini = 0.133\\nsamples = 14\\nvalue = [13, 1]'),\n",
       " Text(0.16666666666666666, 0.125, 'gini = 0.0\\nsamples = 1\\nvalue = [0, 1]'),\n",
       " Text(0.5, 0.125, 'gini = 0.0\\nsamples = 13\\nvalue = [13, 0]'),\n",
       " Text(0.6666666666666666, 0.375, 'gini = 0.0\\nsamples = 1\\nvalue = [0, 1]'),\n",
       " Text(0.8333333333333334, 0.625, 'gini = 0.0\\nsamples = 5\\nvalue = [0, 5]')]"
      ]
     },
     "execution_count": 80,
     "metadata": {},
     "output_type": "execute_result"
    },
    {
     "data": {
      "image/png": "[encoded data removed]",
      "text/plain": [
       "<Figure size 640x480 with 1 Axes>"
      ]
     },
     "metadata": {},
     "output_type": "display_data"
    }
   ],
   "source": [
    "plot_tree(clf2)"
   ]
  },
  {
   "cell_type": "code",
   "execution_count": 81,
   "id": "b7fa9309",
   "metadata": {},
   "outputs": [
    {
     "data": {
      "text/plain": [
       "[Text(0.5, 0.75, 'X[1] <= -0.203\\ngini = 0.5\\nsamples = 20\\nvalue = [10, 10]'),\n",
       " Text(0.25, 0.25, 'gini = 0.0\\nsamples = 10\\nvalue = [10, 0]'),\n",
       " Text(0.75, 0.25, 'gini = 0.0\\nsamples = 10\\nvalue = [0, 10]')]"
      ]
     },
     "execution_count": 81,
     "metadata": {},
     "output_type": "execute_result"
    },
    {
     "data": {
      "image/png": "[encoded data removed]",
      "text/plain": [
       "<Figure size 640x480 with 1 Axes>"
      ]
     },
     "metadata": {},
     "output_type": "display_data"
    }
   ],
   "source": [
    "plot_tree(clf3)"
   ]
  },
  {
   "cell_type": "code",
   "execution_count": 83,
   "id": "6a3d3e9d",
   "metadata": {},
   "outputs": [
    {
     "name": "stderr",
     "output_type": "stream",
     "text": [
      "D:\\Anaconda\\lib\\site-packages\\sklearn\\base.py:450: UserWarning: X does not have valid feature names, but DecisionTreeClassifier was fitted with feature names\n",
      "  warnings.warn(\n"
     ]
    },
    {
     "data": {
      "text/plain": [
       "array([0])"
      ]
     },
     "execution_count": 83,
     "metadata": {},
     "output_type": "execute_result"
    }
   ],
   "source": [
    "clf1.predict(np.array([1.386557,-0.928378,3.190420,-1.804564,-1.207519]).reshape(1,5))"
   ]
  },
  {
   "cell_type": "code",
   "execution_count": 84,
   "id": "fafbdac7",
   "metadata": {},
   "outputs": [
    {
     "name": "stderr",
     "output_type": "stream",
     "text": [
      "D:\\Anaconda\\lib\\site-packages\\sklearn\\base.py:450: UserWarning: X does not have valid feature names, but DecisionTreeClassifier was fitted with feature names\n",
      "  warnings.warn(\n"
     ]
    },
    {
     "data": {
      "text/plain": [
       "array([0])"
      ]
     },
     "execution_count": 84,
     "metadata": {},
     "output_type": "execute_result"
    }
   ],
   "source": [
    "clf2.predict(np.array([1.386557,-0.928378,3.190420,-1.804564,-1.207519]).reshape(1,5))"
   ]
  },
  {
   "cell_type": "code",
   "execution_count": 85,
   "id": "a7fa2fcc",
   "metadata": {},
   "outputs": [
    {
     "name": "stderr",
     "output_type": "stream",
     "text": [
      "D:\\Anaconda\\lib\\site-packages\\sklearn\\base.py:450: UserWarning: X does not have valid feature names, but DecisionTreeClassifier was fitted with feature names\n",
      "  warnings.warn(\n"
     ]
    },
    {
     "data": {
      "text/plain": [
       "array([0])"
      ]
     },
     "execution_count": 85,
     "metadata": {},
     "output_type": "execute_result"
    }
   ],
   "source": [
    "clf3.predict(np.array([1.386557,-0.928378,3.190420,-1.804564,-1.207519]).reshape(1,5))"
   ]
  },
  {
   "cell_type": "code",
   "execution_count": 90,
   "id": "b6a22efb",
   "metadata": {},
   "outputs": [
    {
     "data": {
      "text/html": [
       "<div>\n",
       "<style scoped>\n",
       "    .dataframe tbody tr th:only-of-type {\n",
       "        vertical-align: middle;\n",
       "    }\n",
       "\n",
       "    .dataframe tbody tr th {\n",
       "        vertical-align: top;\n",
       "    }\n",
       "\n",
       "    .dataframe thead th {\n",
       "        text-align: right;\n",
       "    }\n",
       "</style>\n",
       "<table border=\"1\" class=\"dataframe\">\n",
       "  <thead>\n",
       "    <tr style=\"text-align: right;\">\n",
       "      <th></th>\n",
       "      <th>col2</th>\n",
       "      <th>col5</th>\n",
       "      <th>col3</th>\n",
       "    </tr>\n",
       "  </thead>\n",
       "  <tbody>\n",
       "    <tr>\n",
       "      <th>0</th>\n",
       "      <td>0.519345</td>\n",
       "      <td>-1.551316</td>\n",
       "      <td>1.665302</td>\n",
       "    </tr>\n",
       "    <tr>\n",
       "      <th>1</th>\n",
       "      <td>0.759529</td>\n",
       "      <td>3.998473</td>\n",
       "      <td>0.703589</td>\n",
       "    </tr>\n",
       "    <tr>\n",
       "      <th>2</th>\n",
       "      <td>-1.649925</td>\n",
       "      <td>-0.153890</td>\n",
       "      <td>1.461851</td>\n",
       "    </tr>\n",
       "    <tr>\n",
       "      <th>3</th>\n",
       "      <td>2.306642</td>\n",
       "      <td>2.392913</td>\n",
       "      <td>0.251846</td>\n",
       "    </tr>\n",
       "    <tr>\n",
       "      <th>4</th>\n",
       "      <td>-2.694006</td>\n",
       "      <td>1.630898</td>\n",
       "      <td>0.019905</td>\n",
       "    </tr>\n",
       "    <tr>\n",
       "      <th>...</th>\n",
       "      <td>...</td>\n",
       "      <td>...</td>\n",
       "      <td>...</td>\n",
       "    </tr>\n",
       "    <tr>\n",
       "      <th>95</th>\n",
       "      <td>-0.164295</td>\n",
       "      <td>0.989585</td>\n",
       "      <td>1.384287</td>\n",
       "    </tr>\n",
       "    <tr>\n",
       "      <th>96</th>\n",
       "      <td>-1.799891</td>\n",
       "      <td>2.390144</td>\n",
       "      <td>-1.545833</td>\n",
       "    </tr>\n",
       "    <tr>\n",
       "      <th>97</th>\n",
       "      <td>-0.241084</td>\n",
       "      <td>1.393753</td>\n",
       "      <td>3.348812</td>\n",
       "    </tr>\n",
       "    <tr>\n",
       "      <th>98</th>\n",
       "      <td>-1.523331</td>\n",
       "      <td>2.286864</td>\n",
       "      <td>-0.764378</td>\n",
       "    </tr>\n",
       "    <tr>\n",
       "      <th>99</th>\n",
       "      <td>0.354912</td>\n",
       "      <td>3.473551</td>\n",
       "      <td>0.343458</td>\n",
       "    </tr>\n",
       "  </tbody>\n",
       "</table>\n",
       "<p>100 rows × 3 columns</p>\n",
       "</div>"
      ],
      "text/plain": [
       "        col2      col5      col3\n",
       "0   0.519345 -1.551316  1.665302\n",
       "1   0.759529  3.998473  0.703589\n",
       "2  -1.649925 -0.153890  1.461851\n",
       "3   2.306642  2.392913  0.251846\n",
       "4  -2.694006  1.630898  0.019905\n",
       "..       ...       ...       ...\n",
       "95 -0.164295  0.989585  1.384287\n",
       "96 -1.799891  2.390144 -1.545833\n",
       "97 -0.241084  1.393753  3.348812\n",
       "98 -1.523331  2.286864 -0.764378\n",
       "99  0.354912  3.473551  0.343458\n",
       "\n",
       "[100 rows x 3 columns]"
      ]
     },
     "execution_count": 90,
     "metadata": {},
     "output_type": "execute_result"
    }
   ],
   "source": [
    "sample_features(df, 0.8)"
   ]
  },
  {
   "cell_type": "code",
   "execution_count": 91,
   "id": "06087d49",
   "metadata": {},
   "outputs": [],
   "source": [
    "import numpy as np\n",
    "import pandas as pd\n",
    "from sklearn.datasets import make_classification"
   ]
  },
  {
   "cell_type": "code",
   "execution_count": 92,
   "id": "7767532d",
   "metadata": {},
   "outputs": [],
   "source": [
    "X,y = make_classification(n_features=5, n_redundant=0, n_informative=5,n_clusters_per_class=1)"
   ]
  },
  {
   "cell_type": "code",
   "execution_count": 93,
   "id": "ee6bbe91",
   "metadata": {},
   "outputs": [
    {
     "name": "stdout",
     "output_type": "stream",
     "text": [
      "(100, 6)\n"
     ]
    },
    {
     "data": {
      "text/html": [
       "<div>\n",
       "<style scoped>\n",
       "    .dataframe tbody tr th:only-of-type {\n",
       "        vertical-align: middle;\n",
       "    }\n",
       "\n",
       "    .dataframe tbody tr th {\n",
       "        vertical-align: top;\n",
       "    }\n",
       "\n",
       "    .dataframe thead th {\n",
       "        text-align: right;\n",
       "    }\n",
       "</style>\n",
       "<table border=\"1\" class=\"dataframe\">\n",
       "  <thead>\n",
       "    <tr style=\"text-align: right;\">\n",
       "      <th></th>\n",
       "      <th>col1</th>\n",
       "      <th>col2</th>\n",
       "      <th>col3</th>\n",
       "      <th>col4</th>\n",
       "      <th>col5</th>\n",
       "      <th>target</th>\n",
       "    </tr>\n",
       "  </thead>\n",
       "  <tbody>\n",
       "    <tr>\n",
       "      <th>0</th>\n",
       "      <td>0.709373</td>\n",
       "      <td>2.423774</td>\n",
       "      <td>2.527389</td>\n",
       "      <td>-1.524586</td>\n",
       "      <td>-2.813162</td>\n",
       "      <td>1</td>\n",
       "    </tr>\n",
       "    <tr>\n",
       "      <th>1</th>\n",
       "      <td>2.066957</td>\n",
       "      <td>2.056653</td>\n",
       "      <td>2.192745</td>\n",
       "      <td>-0.147258</td>\n",
       "      <td>1.746587</td>\n",
       "      <td>0</td>\n",
       "    </tr>\n",
       "    <tr>\n",
       "      <th>2</th>\n",
       "      <td>-1.766611</td>\n",
       "      <td>-0.455897</td>\n",
       "      <td>0.643251</td>\n",
       "      <td>-1.430039</td>\n",
       "      <td>-0.315606</td>\n",
       "      <td>1</td>\n",
       "    </tr>\n",
       "    <tr>\n",
       "      <th>3</th>\n",
       "      <td>0.653069</td>\n",
       "      <td>1.725956</td>\n",
       "      <td>1.550186</td>\n",
       "      <td>-0.701711</td>\n",
       "      <td>-1.227275</td>\n",
       "      <td>1</td>\n",
       "    </tr>\n",
       "    <tr>\n",
       "      <th>4</th>\n",
       "      <td>1.105286</td>\n",
       "      <td>1.573325</td>\n",
       "      <td>-2.978985</td>\n",
       "      <td>1.671161</td>\n",
       "      <td>-1.721486</td>\n",
       "      <td>0</td>\n",
       "    </tr>\n",
       "  </tbody>\n",
       "</table>\n",
       "</div>"
      ],
      "text/plain": [
       "       col1      col2      col3      col4      col5  target\n",
       "0  0.709373  2.423774  2.527389 -1.524586 -2.813162       1\n",
       "1  2.066957  2.056653  2.192745 -0.147258  1.746587       0\n",
       "2 -1.766611 -0.455897  0.643251 -1.430039 -0.315606       1\n",
       "3  0.653069  1.725956  1.550186 -0.701711 -1.227275       1\n",
       "4  1.105286  1.573325 -2.978985  1.671161 -1.721486       0"
      ]
     },
     "execution_count": 93,
     "metadata": {},
     "output_type": "execute_result"
    }
   ],
   "source": [
    "df = pd.DataFrame(X,columns=['col1','col2','col3','col4','col5'])\n",
    "df['target'] = y\n",
    "print(df.shape)\n",
    "df.head()"
   ]
  },
  {
   "cell_type": "code",
   "execution_count": 94,
   "id": "7d8ab067",
   "metadata": {},
   "outputs": [],
   "source": [
    "# function for row sampling\n",
    "\n",
    "def sample_rows(df,percent):\n",
    "    return df.sample(int(percent*df.shape[0]),replace=True)"
   ]
  },
  {
   "cell_type": "code",
   "execution_count": 95,
   "id": "a14874bb",
   "metadata": {},
   "outputs": [],
   "source": [
    "# function for feature sampling\n",
    "def sample_features(df,percent):\n",
    "    cols = random.sample(df.columns.tolist()[:-1],int(percent*(df.shape[1]-1)))\n",
    "    new_df = df[cols]\n",
    "    new_df['target'] = df['target']\n",
    "    return new_df"
   ]
  },
  {
   "cell_type": "code",
   "execution_count": 96,
   "id": "49f8921f",
   "metadata": {},
   "outputs": [],
   "source": [
    "# function for combined sampling\n",
    "\n",
    "def combined_sampling(df,row_percent,col_percent):\n",
    "    new_df = sample_rows(df,row_percent)\n",
    "    return sample_features(new_df,col_percent)"
   ]
  },
  {
   "cell_type": "code",
   "execution_count": 97,
   "id": "de0e66d6",
   "metadata": {},
   "outputs": [
    {
     "name": "stderr",
     "output_type": "stream",
     "text": [
      "C:\\Users\\Dell\\AppData\\Local\\Temp\\ipykernel_11164\\3999859604.py:5: SettingWithCopyWarning: \n",
      "A value is trying to be set on a copy of a slice from a DataFrame.\n",
      "Try using .loc[row_indexer,col_indexer] = value instead\n",
      "\n",
      "See the caveats in the documentation: https://pandas.pydata.org/pandas-docs/stable/user_guide/indexing.html#returning-a-view-versus-a-copy\n",
      "  new_df['target'] = df['target']\n"
     ]
    }
   ],
   "source": [
    "df1 = combined_sampling(df,0.5,0.5)\n"
   ]
  },
  {
   "cell_type": "code",
   "execution_count": 98,
   "id": "893e9a04",
   "metadata": {},
   "outputs": [
    {
     "name": "stderr",
     "output_type": "stream",
     "text": [
      "C:\\Users\\Dell\\AppData\\Local\\Temp\\ipykernel_11164\\3999859604.py:5: SettingWithCopyWarning: \n",
      "A value is trying to be set on a copy of a slice from a DataFrame.\n",
      "Try using .loc[row_indexer,col_indexer] = value instead\n",
      "\n",
      "See the caveats in the documentation: https://pandas.pydata.org/pandas-docs/stable/user_guide/indexing.html#returning-a-view-versus-a-copy\n",
      "  new_df['target'] = df['target']\n"
     ]
    }
   ],
   "source": [
    "df2 = combined_sampling(df,0.5,0.5)"
   ]
  },
  {
   "cell_type": "code",
   "execution_count": 99,
   "id": "9761410d",
   "metadata": {},
   "outputs": [
    {
     "name": "stderr",
     "output_type": "stream",
     "text": [
      "C:\\Users\\Dell\\AppData\\Local\\Temp\\ipykernel_11164\\3999859604.py:5: SettingWithCopyWarning: \n",
      "A value is trying to be set on a copy of a slice from a DataFrame.\n",
      "Try using .loc[row_indexer,col_indexer] = value instead\n",
      "\n",
      "See the caveats in the documentation: https://pandas.pydata.org/pandas-docs/stable/user_guide/indexing.html#returning-a-view-versus-a-copy\n",
      "  new_df['target'] = df['target']\n"
     ]
    }
   ],
   "source": [
    "df3 = combined_sampling(df,0.5,0.5)"
   ]
  },
  {
   "cell_type": "code",
   "execution_count": 100,
   "id": "201f99c7",
   "metadata": {},
   "outputs": [
    {
     "name": "stdout",
     "output_type": "stream",
     "text": [
      "Index(['col1', 'col3', 'target'], dtype='object')\n",
      "Index(['col4', 'col3', 'target'], dtype='object')\n",
      "Index(['col3', 'col2', 'target'], dtype='object')\n"
     ]
    }
   ],
   "source": [
    "print(df1.columns)\n",
    "print(df2.columns)\n",
    "print(df3.columns)"
   ]
  },
  {
   "cell_type": "code",
   "execution_count": 101,
   "id": "59f95092",
   "metadata": {},
   "outputs": [
    {
     "data": {
      "text/html": [
       "<div>\n",
       "<style scoped>\n",
       "    .dataframe tbody tr th:only-of-type {\n",
       "        vertical-align: middle;\n",
       "    }\n",
       "\n",
       "    .dataframe tbody tr th {\n",
       "        vertical-align: top;\n",
       "    }\n",
       "\n",
       "    .dataframe thead th {\n",
       "        text-align: right;\n",
       "    }\n",
       "</style>\n",
       "<table border=\"1\" class=\"dataframe\">\n",
       "  <thead>\n",
       "    <tr style=\"text-align: right;\">\n",
       "      <th></th>\n",
       "      <th>col3</th>\n",
       "      <th>col2</th>\n",
       "      <th>target</th>\n",
       "    </tr>\n",
       "  </thead>\n",
       "  <tbody>\n",
       "    <tr>\n",
       "      <th>53</th>\n",
       "      <td>0.507597</td>\n",
       "      <td>-1.778885</td>\n",
       "      <td>1</td>\n",
       "    </tr>\n",
       "    <tr>\n",
       "      <th>47</th>\n",
       "      <td>-0.248968</td>\n",
       "      <td>0.220984</td>\n",
       "      <td>0</td>\n",
       "    </tr>\n",
       "    <tr>\n",
       "      <th>75</th>\n",
       "      <td>1.789277</td>\n",
       "      <td>3.034601</td>\n",
       "      <td>1</td>\n",
       "    </tr>\n",
       "    <tr>\n",
       "      <th>2</th>\n",
       "      <td>0.643251</td>\n",
       "      <td>-0.455897</td>\n",
       "      <td>1</td>\n",
       "    </tr>\n",
       "    <tr>\n",
       "      <th>47</th>\n",
       "      <td>-0.248968</td>\n",
       "      <td>0.220984</td>\n",
       "      <td>0</td>\n",
       "    </tr>\n",
       "    <tr>\n",
       "      <th>38</th>\n",
       "      <td>1.739929</td>\n",
       "      <td>0.492167</td>\n",
       "      <td>1</td>\n",
       "    </tr>\n",
       "    <tr>\n",
       "      <th>29</th>\n",
       "      <td>-0.148208</td>\n",
       "      <td>-0.679533</td>\n",
       "      <td>1</td>\n",
       "    </tr>\n",
       "    <tr>\n",
       "      <th>77</th>\n",
       "      <td>-3.365277</td>\n",
       "      <td>-0.315145</td>\n",
       "      <td>0</td>\n",
       "    </tr>\n",
       "    <tr>\n",
       "      <th>89</th>\n",
       "      <td>1.600258</td>\n",
       "      <td>0.913405</td>\n",
       "      <td>1</td>\n",
       "    </tr>\n",
       "    <tr>\n",
       "      <th>21</th>\n",
       "      <td>1.149971</td>\n",
       "      <td>0.578367</td>\n",
       "      <td>1</td>\n",
       "    </tr>\n",
       "    <tr>\n",
       "      <th>14</th>\n",
       "      <td>-1.848717</td>\n",
       "      <td>2.786643</td>\n",
       "      <td>0</td>\n",
       "    </tr>\n",
       "    <tr>\n",
       "      <th>27</th>\n",
       "      <td>2.221267</td>\n",
       "      <td>1.766044</td>\n",
       "      <td>1</td>\n",
       "    </tr>\n",
       "    <tr>\n",
       "      <th>2</th>\n",
       "      <td>0.643251</td>\n",
       "      <td>-0.455897</td>\n",
       "      <td>1</td>\n",
       "    </tr>\n",
       "    <tr>\n",
       "      <th>6</th>\n",
       "      <td>-0.161495</td>\n",
       "      <td>2.800205</td>\n",
       "      <td>0</td>\n",
       "    </tr>\n",
       "    <tr>\n",
       "      <th>46</th>\n",
       "      <td>-0.389896</td>\n",
       "      <td>2.414092</td>\n",
       "      <td>0</td>\n",
       "    </tr>\n",
       "    <tr>\n",
       "      <th>95</th>\n",
       "      <td>1.792203</td>\n",
       "      <td>1.962775</td>\n",
       "      <td>1</td>\n",
       "    </tr>\n",
       "    <tr>\n",
       "      <th>50</th>\n",
       "      <td>1.640065</td>\n",
       "      <td>0.962011</td>\n",
       "      <td>1</td>\n",
       "    </tr>\n",
       "    <tr>\n",
       "      <th>4</th>\n",
       "      <td>-2.978985</td>\n",
       "      <td>1.573325</td>\n",
       "      <td>0</td>\n",
       "    </tr>\n",
       "    <tr>\n",
       "      <th>0</th>\n",
       "      <td>2.527389</td>\n",
       "      <td>2.423774</td>\n",
       "      <td>1</td>\n",
       "    </tr>\n",
       "    <tr>\n",
       "      <th>17</th>\n",
       "      <td>0.866747</td>\n",
       "      <td>0.711407</td>\n",
       "      <td>1</td>\n",
       "    </tr>\n",
       "    <tr>\n",
       "      <th>31</th>\n",
       "      <td>0.449349</td>\n",
       "      <td>1.368238</td>\n",
       "      <td>0</td>\n",
       "    </tr>\n",
       "    <tr>\n",
       "      <th>12</th>\n",
       "      <td>-0.689590</td>\n",
       "      <td>-0.456794</td>\n",
       "      <td>0</td>\n",
       "    </tr>\n",
       "    <tr>\n",
       "      <th>61</th>\n",
       "      <td>0.368026</td>\n",
       "      <td>2.469135</td>\n",
       "      <td>0</td>\n",
       "    </tr>\n",
       "    <tr>\n",
       "      <th>77</th>\n",
       "      <td>-3.365277</td>\n",
       "      <td>-0.315145</td>\n",
       "      <td>0</td>\n",
       "    </tr>\n",
       "    <tr>\n",
       "      <th>45</th>\n",
       "      <td>0.752512</td>\n",
       "      <td>0.368251</td>\n",
       "      <td>1</td>\n",
       "    </tr>\n",
       "    <tr>\n",
       "      <th>21</th>\n",
       "      <td>1.149971</td>\n",
       "      <td>0.578367</td>\n",
       "      <td>1</td>\n",
       "    </tr>\n",
       "    <tr>\n",
       "      <th>95</th>\n",
       "      <td>1.792203</td>\n",
       "      <td>1.962775</td>\n",
       "      <td>1</td>\n",
       "    </tr>\n",
       "    <tr>\n",
       "      <th>66</th>\n",
       "      <td>-5.047053</td>\n",
       "      <td>2.022592</td>\n",
       "      <td>0</td>\n",
       "    </tr>\n",
       "    <tr>\n",
       "      <th>28</th>\n",
       "      <td>0.112970</td>\n",
       "      <td>2.989650</td>\n",
       "      <td>0</td>\n",
       "    </tr>\n",
       "    <tr>\n",
       "      <th>21</th>\n",
       "      <td>1.149971</td>\n",
       "      <td>0.578367</td>\n",
       "      <td>1</td>\n",
       "    </tr>\n",
       "    <tr>\n",
       "      <th>60</th>\n",
       "      <td>0.178499</td>\n",
       "      <td>-1.731071</td>\n",
       "      <td>1</td>\n",
       "    </tr>\n",
       "    <tr>\n",
       "      <th>50</th>\n",
       "      <td>1.640065</td>\n",
       "      <td>0.962011</td>\n",
       "      <td>1</td>\n",
       "    </tr>\n",
       "    <tr>\n",
       "      <th>32</th>\n",
       "      <td>0.750861</td>\n",
       "      <td>0.772706</td>\n",
       "      <td>1</td>\n",
       "    </tr>\n",
       "    <tr>\n",
       "      <th>98</th>\n",
       "      <td>-2.323453</td>\n",
       "      <td>1.351767</td>\n",
       "      <td>0</td>\n",
       "    </tr>\n",
       "    <tr>\n",
       "      <th>37</th>\n",
       "      <td>-1.500092</td>\n",
       "      <td>-0.006706</td>\n",
       "      <td>0</td>\n",
       "    </tr>\n",
       "    <tr>\n",
       "      <th>28</th>\n",
       "      <td>0.112970</td>\n",
       "      <td>2.989650</td>\n",
       "      <td>0</td>\n",
       "    </tr>\n",
       "    <tr>\n",
       "      <th>31</th>\n",
       "      <td>0.449349</td>\n",
       "      <td>1.368238</td>\n",
       "      <td>0</td>\n",
       "    </tr>\n",
       "    <tr>\n",
       "      <th>64</th>\n",
       "      <td>-1.005264</td>\n",
       "      <td>-0.070039</td>\n",
       "      <td>0</td>\n",
       "    </tr>\n",
       "    <tr>\n",
       "      <th>78</th>\n",
       "      <td>1.916047</td>\n",
       "      <td>2.835616</td>\n",
       "      <td>1</td>\n",
       "    </tr>\n",
       "    <tr>\n",
       "      <th>27</th>\n",
       "      <td>2.221267</td>\n",
       "      <td>1.766044</td>\n",
       "      <td>1</td>\n",
       "    </tr>\n",
       "    <tr>\n",
       "      <th>21</th>\n",
       "      <td>1.149971</td>\n",
       "      <td>0.578367</td>\n",
       "      <td>1</td>\n",
       "    </tr>\n",
       "    <tr>\n",
       "      <th>98</th>\n",
       "      <td>-2.323453</td>\n",
       "      <td>1.351767</td>\n",
       "      <td>0</td>\n",
       "    </tr>\n",
       "    <tr>\n",
       "      <th>50</th>\n",
       "      <td>1.640065</td>\n",
       "      <td>0.962011</td>\n",
       "      <td>1</td>\n",
       "    </tr>\n",
       "    <tr>\n",
       "      <th>54</th>\n",
       "      <td>0.603283</td>\n",
       "      <td>1.636918</td>\n",
       "      <td>1</td>\n",
       "    </tr>\n",
       "    <tr>\n",
       "      <th>18</th>\n",
       "      <td>-1.386821</td>\n",
       "      <td>0.394744</td>\n",
       "      <td>0</td>\n",
       "    </tr>\n",
       "    <tr>\n",
       "      <th>10</th>\n",
       "      <td>1.654437</td>\n",
       "      <td>3.561880</td>\n",
       "      <td>1</td>\n",
       "    </tr>\n",
       "    <tr>\n",
       "      <th>22</th>\n",
       "      <td>-1.126664</td>\n",
       "      <td>1.506325</td>\n",
       "      <td>0</td>\n",
       "    </tr>\n",
       "    <tr>\n",
       "      <th>20</th>\n",
       "      <td>-0.685674</td>\n",
       "      <td>2.214697</td>\n",
       "      <td>0</td>\n",
       "    </tr>\n",
       "    <tr>\n",
       "      <th>36</th>\n",
       "      <td>0.463980</td>\n",
       "      <td>1.108029</td>\n",
       "      <td>1</td>\n",
       "    </tr>\n",
       "    <tr>\n",
       "      <th>42</th>\n",
       "      <td>0.628135</td>\n",
       "      <td>0.156822</td>\n",
       "      <td>0</td>\n",
       "    </tr>\n",
       "  </tbody>\n",
       "</table>\n",
       "</div>"
      ],
      "text/plain": [
       "        col3      col2  target\n",
       "53  0.507597 -1.778885       1\n",
       "47 -0.248968  0.220984       0\n",
       "75  1.789277  3.034601       1\n",
       "2   0.643251 -0.455897       1\n",
       "47 -0.248968  0.220984       0\n",
       "38  1.739929  0.492167       1\n",
       "29 -0.148208 -0.679533       1\n",
       "77 -3.365277 -0.315145       0\n",
       "89  1.600258  0.913405       1\n",
       "21  1.149971  0.578367       1\n",
       "14 -1.848717  2.786643       0\n",
       "27  2.221267  1.766044       1\n",
       "2   0.643251 -0.455897       1\n",
       "6  -0.161495  2.800205       0\n",
       "46 -0.389896  2.414092       0\n",
       "95  1.792203  1.962775       1\n",
       "50  1.640065  0.962011       1\n",
       "4  -2.978985  1.573325       0\n",
       "0   2.527389  2.423774       1\n",
       "17  0.866747  0.711407       1\n",
       "31  0.449349  1.368238       0\n",
       "12 -0.689590 -0.456794       0\n",
       "61  0.368026  2.469135       0\n",
       "77 -3.365277 -0.315145       0\n",
       "45  0.752512  0.368251       1\n",
       "21  1.149971  0.578367       1\n",
       "95  1.792203  1.962775       1\n",
       "66 -5.047053  2.022592       0\n",
       "28  0.112970  2.989650       0\n",
       "21  1.149971  0.578367       1\n",
       "60  0.178499 -1.731071       1\n",
       "50  1.640065  0.962011       1\n",
       "32  0.750861  0.772706       1\n",
       "98 -2.323453  1.351767       0\n",
       "37 -1.500092 -0.006706       0\n",
       "28  0.112970  2.989650       0\n",
       "31  0.449349  1.368238       0\n",
       "64 -1.005264 -0.070039       0\n",
       "78  1.916047  2.835616       1\n",
       "27  2.221267  1.766044       1\n",
       "21  1.149971  0.578367       1\n",
       "98 -2.323453  1.351767       0\n",
       "50  1.640065  0.962011       1\n",
       "54  0.603283  1.636918       1\n",
       "18 -1.386821  0.394744       0\n",
       "10  1.654437  3.561880       1\n",
       "22 -1.126664  1.506325       0\n",
       "20 -0.685674  2.214697       0\n",
       "36  0.463980  1.108029       1\n",
       "42  0.628135  0.156822       0"
      ]
     },
     "execution_count": 101,
     "metadata": {},
     "output_type": "execute_result"
    }
   ],
   "source": [
    "\n",
    "df3"
   ]
  },
  {
   "cell_type": "code",
   "execution_count": 102,
   "id": "101984cb",
   "metadata": {},
   "outputs": [],
   "source": [
    "from sklearn.tree import DecisionTreeClassifier\n",
    "clf1 = DecisionTreeClassifier()\n",
    "clf2 = DecisionTreeClassifier()\n",
    "clf3 = DecisionTreeClassifier()\n"
   ]
  },
  {
   "cell_type": "code",
   "execution_count": 103,
   "id": "b8bb6765",
   "metadata": {},
   "outputs": [
    {
     "data": {
      "text/plain": [
       "DecisionTreeClassifier()"
      ]
     },
     "execution_count": 103,
     "metadata": {},
     "output_type": "execute_result"
    }
   ],
   "source": [
    "clf1.fit(df1.iloc[:,0:2],df1.iloc[:,-1])\n",
    "clf2.fit(df2.iloc[:,0:2],df2.iloc[:,-1])\n",
    "clf3.fit(df3.iloc[:,0:2],df3.iloc[:,-1])"
   ]
  },
  {
   "cell_type": "code",
   "execution_count": 104,
   "id": "3ceec120",
   "metadata": {},
   "outputs": [],
   "source": [
    "from sklearn.tree import plot_tree"
   ]
  },
  {
   "cell_type": "code",
   "execution_count": 105,
   "id": "1b261c85",
   "metadata": {},
   "outputs": [
    {
     "data": {
      "text/plain": [
       "[Text(0.5, 0.9, 'X[1] <= -0.094\\ngini = 0.493\\nsamples = 50\\nvalue = [22, 28]'),\n",
       " Text(0.25, 0.7, 'X[0] <= -1.615\\ngini = 0.236\\nsamples = 22\\nvalue = [19, 3]'),\n",
       " Text(0.125, 0.5, 'gini = 0.0\\nsamples = 3\\nvalue = [0, 3]'),\n",
       " Text(0.375, 0.5, 'gini = 0.0\\nsamples = 19\\nvalue = [19, 0]'),\n",
       " Text(0.75, 0.7, 'X[0] <= 1.938\\ngini = 0.191\\nsamples = 28\\nvalue = [3, 25]'),\n",
       " Text(0.625, 0.5, 'X[0] <= 1.207\\ngini = 0.074\\nsamples = 26\\nvalue = [1, 25]'),\n",
       " Text(0.5, 0.3, 'gini = 0.0\\nsamples = 23\\nvalue = [0, 23]'),\n",
       " Text(0.75, 0.3, 'X[0] <= 1.36\\ngini = 0.444\\nsamples = 3\\nvalue = [1, 2]'),\n",
       " Text(0.625, 0.1, 'gini = 0.0\\nsamples = 1\\nvalue = [1, 0]'),\n",
       " Text(0.875, 0.1, 'gini = 0.0\\nsamples = 2\\nvalue = [0, 2]'),\n",
       " Text(0.875, 0.5, 'gini = 0.0\\nsamples = 2\\nvalue = [2, 0]')]"
      ]
     },
     "execution_count": 105,
     "metadata": {},
     "output_type": "execute_result"
    },
    {
     "data": {
      "image/png": "[encoded data removed]",
      "text/plain": [
       "<Figure size 640x480 with 1 Axes>"
      ]
     },
     "metadata": {},
     "output_type": "display_data"
    }
   ],
   "source": [
    "plot_tree(clf1)"
   ]
  },
  {
   "cell_type": "code",
   "execution_count": 106,
   "id": "07202c05",
   "metadata": {},
   "outputs": [
    {
     "data": {
      "text/plain": [
       "[Text(0.36363636363636365, 0.9166666666666666, 'X[1] <= -0.609\\ngini = 0.493\\nsamples = 50\\nvalue = [28, 22]'),\n",
       " Text(0.2727272727272727, 0.75, 'gini = 0.0\\nsamples = 16\\nvalue = [16, 0]'),\n",
       " Text(0.45454545454545453, 0.75, 'X[0] <= -0.335\\ngini = 0.457\\nsamples = 34\\nvalue = [12, 22]'),\n",
       " Text(0.2727272727272727, 0.5833333333333334, 'X[1] <= -0.269\\ngini = 0.095\\nsamples = 20\\nvalue = [1, 19]'),\n",
       " Text(0.18181818181818182, 0.4166666666666667, 'X[1] <= -0.487\\ngini = 0.5\\nsamples = 2\\nvalue = [1, 1]'),\n",
       " Text(0.09090909090909091, 0.25, 'gini = 0.0\\nsamples = 1\\nvalue = [0, 1]'),\n",
       " Text(0.2727272727272727, 0.25, 'gini = 0.0\\nsamples = 1\\nvalue = [1, 0]'),\n",
       " Text(0.36363636363636365, 0.4166666666666667, 'gini = 0.0\\nsamples = 18\\nvalue = [0, 18]'),\n",
       " Text(0.6363636363636364, 0.5833333333333334, 'X[1] <= -0.301\\ngini = 0.337\\nsamples = 14\\nvalue = [11, 3]'),\n",
       " Text(0.5454545454545454, 0.4166666666666667, 'gini = 0.0\\nsamples = 2\\nvalue = [0, 2]'),\n",
       " Text(0.7272727272727273, 0.4166666666666667, 'X[1] <= 1.224\\ngini = 0.153\\nsamples = 12\\nvalue = [11, 1]'),\n",
       " Text(0.6363636363636364, 0.25, 'gini = 0.0\\nsamples = 10\\nvalue = [10, 0]'),\n",
       " Text(0.8181818181818182, 0.25, 'X[1] <= 1.728\\ngini = 0.5\\nsamples = 2\\nvalue = [1, 1]'),\n",
       " Text(0.7272727272727273, 0.08333333333333333, 'gini = 0.0\\nsamples = 1\\nvalue = [0, 1]'),\n",
       " Text(0.9090909090909091, 0.08333333333333333, 'gini = 0.0\\nsamples = 1\\nvalue = [1, 0]')]"
      ]
     },
     "execution_count": 106,
     "metadata": {},
     "output_type": "execute_result"
    },
    {
     "data": {
      "image/png": "[encoded data removed]",
      "text/plain": [
       "<Figure size 640x480 with 1 Axes>"
      ]
     },
     "metadata": {},
     "output_type": "display_data"
    }
   ],
   "source": [
    "plot_tree(clf2)"
   ]
  },
  {
   "cell_type": "code",
   "execution_count": 107,
   "id": "da5bdf7c",
   "metadata": {},
   "outputs": [
    {
     "data": {
      "text/plain": [
       "[Text(0.5, 0.875, 'X[0] <= 0.457\\ngini = 0.497\\nsamples = 50\\nvalue = [23, 27]'),\n",
       " Text(0.25, 0.625, 'X[1] <= -0.568\\ngini = 0.153\\nsamples = 24\\nvalue = [22, 2]'),\n",
       " Text(0.125, 0.375, 'gini = 0.0\\nsamples = 2\\nvalue = [0, 2]'),\n",
       " Text(0.375, 0.375, 'gini = 0.0\\nsamples = 22\\nvalue = [22, 0]'),\n",
       " Text(0.75, 0.625, 'X[1] <= 0.263\\ngini = 0.074\\nsamples = 26\\nvalue = [1, 25]'),\n",
       " Text(0.625, 0.375, 'X[1] <= -0.15\\ngini = 0.375\\nsamples = 4\\nvalue = [1, 3]'),\n",
       " Text(0.5, 0.125, 'gini = 0.0\\nsamples = 3\\nvalue = [0, 3]'),\n",
       " Text(0.75, 0.125, 'gini = 0.0\\nsamples = 1\\nvalue = [1, 0]'),\n",
       " Text(0.875, 0.375, 'gini = 0.0\\nsamples = 22\\nvalue = [0, 22]')]"
      ]
     },
     "execution_count": 107,
     "metadata": {},
     "output_type": "execute_result"
    },
    {
     "data": {
      "image/png": "[encoded data removed]",
      "text/plain": [
       "<Figure size 640x480 with 1 Axes>"
      ]
     },
     "metadata": {},
     "output_type": "display_data"
    }
   ],
   "source": [
    "plot_tree(clf3)"
   ]
  },
  {
   "cell_type": "code",
   "execution_count": 108,
   "id": "0b640ed4",
   "metadata": {},
   "outputs": [
    {
     "name": "stderr",
     "output_type": "stream",
     "text": [
      "D:\\Anaconda\\lib\\site-packages\\sklearn\\base.py:450: UserWarning: X does not have valid feature names, but DecisionTreeClassifier was fitted with feature names\n",
      "  warnings.warn(\n"
     ]
    },
    {
     "data": {
      "text/plain": [
       "array([1])"
      ]
     },
     "execution_count": 108,
     "metadata": {},
     "output_type": "execute_result"
    }
   ],
   "source": [
    "clf1.predict(np.array([-1.042498,\t-0.064323]).reshape(1,2))"
   ]
  },
  {
   "cell_type": "code",
   "execution_count": 109,
   "id": "d2253e41",
   "metadata": {},
   "outputs": [
    {
     "name": "stderr",
     "output_type": "stream",
     "text": [
      "D:\\Anaconda\\lib\\site-packages\\sklearn\\base.py:450: UserWarning: X does not have valid feature names, but DecisionTreeClassifier was fitted with feature names\n",
      "  warnings.warn(\n"
     ]
    },
    {
     "data": {
      "text/plain": [
       "array([1])"
      ]
     },
     "execution_count": 109,
     "metadata": {},
     "output_type": "execute_result"
    }
   ],
   "source": [
    "clf2.predict(np.array([-1.042498,\t-0.064323]).reshape(1,2))"
   ]
  },
  {
   "cell_type": "code",
   "execution_count": 110,
   "id": "86b1814c",
   "metadata": {},
   "outputs": [
    {
     "name": "stderr",
     "output_type": "stream",
     "text": [
      "D:\\Anaconda\\lib\\site-packages\\sklearn\\base.py:450: UserWarning: X does not have valid feature names, but DecisionTreeClassifier was fitted with feature names\n",
      "  warnings.warn(\n"
     ]
    },
    {
     "data": {
      "text/plain": [
       "array([0])"
      ]
     },
     "execution_count": 110,
     "metadata": {},
     "output_type": "execute_result"
    }
   ],
   "source": [
    "clf3.predict(np.array([-1.042498,\t-0.064323]).reshape(1,2))"
   ]
  },
  {
   "cell_type": "code",
   "execution_count": 111,
   "id": "fc3f65ee",
   "metadata": {},
   "outputs": [
    {
     "data": {
      "text/html": [
       "<div>\n",
       "<style scoped>\n",
       "    .dataframe tbody tr th:only-of-type {\n",
       "        vertical-align: middle;\n",
       "    }\n",
       "\n",
       "    .dataframe tbody tr th {\n",
       "        vertical-align: top;\n",
       "    }\n",
       "\n",
       "    .dataframe thead th {\n",
       "        text-align: right;\n",
       "    }\n",
       "</style>\n",
       "<table border=\"1\" class=\"dataframe\">\n",
       "  <thead>\n",
       "    <tr style=\"text-align: right;\">\n",
       "      <th></th>\n",
       "      <th>col1</th>\n",
       "      <th>col2</th>\n",
       "      <th>col3</th>\n",
       "      <th>col4</th>\n",
       "      <th>col5</th>\n",
       "      <th>target</th>\n",
       "    </tr>\n",
       "  </thead>\n",
       "  <tbody>\n",
       "    <tr>\n",
       "      <th>38</th>\n",
       "      <td>-1.690574</td>\n",
       "      <td>0.492167</td>\n",
       "      <td>1.739929</td>\n",
       "      <td>-0.730979</td>\n",
       "      <td>-3.338709</td>\n",
       "      <td>1</td>\n",
       "    </tr>\n",
       "    <tr>\n",
       "      <th>27</th>\n",
       "      <td>0.642863</td>\n",
       "      <td>1.766044</td>\n",
       "      <td>2.221267</td>\n",
       "      <td>-2.532391</td>\n",
       "      <td>-1.945488</td>\n",
       "      <td>1</td>\n",
       "    </tr>\n",
       "    <tr>\n",
       "      <th>38</th>\n",
       "      <td>-1.690574</td>\n",
       "      <td>0.492167</td>\n",
       "      <td>1.739929</td>\n",
       "      <td>-0.730979</td>\n",
       "      <td>-3.338709</td>\n",
       "      <td>1</td>\n",
       "    </tr>\n",
       "    <tr>\n",
       "      <th>61</th>\n",
       "      <td>1.454613</td>\n",
       "      <td>2.469135</td>\n",
       "      <td>0.368026</td>\n",
       "      <td>1.283714</td>\n",
       "      <td>-0.975243</td>\n",
       "      <td>0</td>\n",
       "    </tr>\n",
       "    <tr>\n",
       "      <th>13</th>\n",
       "      <td>1.191674</td>\n",
       "      <td>2.613758</td>\n",
       "      <td>-1.850731</td>\n",
       "      <td>0.334509</td>\n",
       "      <td>-1.137592</td>\n",
       "      <td>0</td>\n",
       "    </tr>\n",
       "    <tr>\n",
       "      <th>66</th>\n",
       "      <td>-0.175216</td>\n",
       "      <td>2.022592</td>\n",
       "      <td>-5.047053</td>\n",
       "      <td>-0.315718</td>\n",
       "      <td>-0.649118</td>\n",
       "      <td>0</td>\n",
       "    </tr>\n",
       "    <tr>\n",
       "      <th>35</th>\n",
       "      <td>0.947528</td>\n",
       "      <td>1.549944</td>\n",
       "      <td>-1.591282</td>\n",
       "      <td>0.619542</td>\n",
       "      <td>-1.047683</td>\n",
       "      <td>0</td>\n",
       "    </tr>\n",
       "    <tr>\n",
       "      <th>79</th>\n",
       "      <td>2.245499</td>\n",
       "      <td>2.033013</td>\n",
       "      <td>0.187119</td>\n",
       "      <td>2.504843</td>\n",
       "      <td>-2.431630</td>\n",
       "      <td>0</td>\n",
       "    </tr>\n",
       "    <tr>\n",
       "      <th>20</th>\n",
       "      <td>0.029031</td>\n",
       "      <td>2.214697</td>\n",
       "      <td>-0.685674</td>\n",
       "      <td>-0.378154</td>\n",
       "      <td>-0.736241</td>\n",
       "      <td>0</td>\n",
       "    </tr>\n",
       "    <tr>\n",
       "      <th>68</th>\n",
       "      <td>0.745369</td>\n",
       "      <td>2.631304</td>\n",
       "      <td>0.302428</td>\n",
       "      <td>-1.891455</td>\n",
       "      <td>1.444516</td>\n",
       "      <td>0</td>\n",
       "    </tr>\n",
       "    <tr>\n",
       "      <th>96</th>\n",
       "      <td>-1.128571</td>\n",
       "      <td>-0.318406</td>\n",
       "      <td>0.993735</td>\n",
       "      <td>-0.217813</td>\n",
       "      <td>-1.276647</td>\n",
       "      <td>1</td>\n",
       "    </tr>\n",
       "    <tr>\n",
       "      <th>32</th>\n",
       "      <td>-1.622195</td>\n",
       "      <td>0.772706</td>\n",
       "      <td>0.750861</td>\n",
       "      <td>-1.070468</td>\n",
       "      <td>-1.104598</td>\n",
       "      <td>1</td>\n",
       "    </tr>\n",
       "    <tr>\n",
       "      <th>2</th>\n",
       "      <td>-1.766611</td>\n",
       "      <td>-0.455897</td>\n",
       "      <td>0.643251</td>\n",
       "      <td>-1.430039</td>\n",
       "      <td>-0.315606</td>\n",
       "      <td>1</td>\n",
       "    </tr>\n",
       "    <tr>\n",
       "      <th>47</th>\n",
       "      <td>0.960073</td>\n",
       "      <td>0.220984</td>\n",
       "      <td>-0.248968</td>\n",
       "      <td>1.576736</td>\n",
       "      <td>-1.945240</td>\n",
       "      <td>0</td>\n",
       "    </tr>\n",
       "  </tbody>\n",
       "</table>\n",
       "</div>"
      ],
      "text/plain": [
       "        col1      col2      col3      col4      col5  target\n",
       "38 -1.690574  0.492167  1.739929 -0.730979 -3.338709       1\n",
       "27  0.642863  1.766044  2.221267 -2.532391 -1.945488       1\n",
       "38 -1.690574  0.492167  1.739929 -0.730979 -3.338709       1\n",
       "61  1.454613  2.469135  0.368026  1.283714 -0.975243       0\n",
       "13  1.191674  2.613758 -1.850731  0.334509 -1.137592       0\n",
       "66 -0.175216  2.022592 -5.047053 -0.315718 -0.649118       0\n",
       "35  0.947528  1.549944 -1.591282  0.619542 -1.047683       0\n",
       "79  2.245499  2.033013  0.187119  2.504843 -2.431630       0\n",
       "20  0.029031  2.214697 -0.685674 -0.378154 -0.736241       0\n",
       "68  0.745369  2.631304  0.302428 -1.891455  1.444516       0\n",
       "96 -1.128571 -0.318406  0.993735 -0.217813 -1.276647       1\n",
       "32 -1.622195  0.772706  0.750861 -1.070468 -1.104598       1\n",
       "2  -1.766611 -0.455897  0.643251 -1.430039 -0.315606       1\n",
       "47  0.960073  0.220984 -0.248968  1.576736 -1.945240       0"
      ]
     },
     "execution_count": 111,
     "metadata": {},
     "output_type": "execute_result"
    }
   ],
   "source": [
    "df.sample(14,replace=True)"
   ]
  },
  {
   "cell_type": "code",
   "execution_count": null,
   "id": "95459e96",
   "metadata": {},
   "outputs": [],
   "source": []
  }
 ],
 "metadata": {
  "kernelspec": {
   "display_name": "Python 3 (ipykernel)",
   "language": "python",
   "name": "python3"
  },
  "language_info": {
   "codemirror_mode": {
    "name": "ipython",
    "version": 3
   },
   "file_extension": ".py",
   "mimetype": "text/x-python",
   "name": "python",
   "nbconvert_exporter": "python",
   "pygments_lexer": "ipython3",
   "version": "3.9.13"
  },
  "varInspector": {
   "cols": {
    "lenName": 16,
    "lenType": 16,
    "lenVar": 40
   },
   "kernels_config": {
    "python": {
     "delete_cmd_postfix": "",
     "delete_cmd_prefix": "del ",
     "library": "var_list.py",
     "varRefreshCmd": "print(var_dic_list())"
    },
    "r": {
     "delete_cmd_postfix": ") ",
     "delete_cmd_prefix": "rm(",
     "library": "var_list.r",
     "varRefreshCmd": "cat(var_dic_list()) "
    }
   },
   "types_to_exclude": [
    "module",
    "function",
    "builtin_function_or_method",
    "instance",
    "_Feature"
   ],
   "window_display": false
  }
 },
 "nbformat": 4,
 "nbformat_minor": 5
}
